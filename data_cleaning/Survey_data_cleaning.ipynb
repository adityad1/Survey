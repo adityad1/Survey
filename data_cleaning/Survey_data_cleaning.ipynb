{
 "cells": [
  {
   "cell_type": "code",
   "execution_count": 1,
   "metadata": {},
   "outputs": [],
   "source": [
    "import pandas as pd\n",
    "df = pd.read_csv('../datasets/ASE-B Survey.csv')"
   ]
  },
  {
   "cell_type": "code",
   "execution_count": 2,
   "metadata": {},
   "outputs": [
    {
     "data": {
      "text/plain": [
       "(69, 14)"
      ]
     },
     "execution_count": 2,
     "metadata": {},
     "output_type": "execute_result"
    }
   ],
   "source": [
    "df.shape"
   ]
  },
  {
   "cell_type": "markdown",
   "metadata": {},
   "source": [
    "That's a good amount of answers to the survey."
   ]
  },
  {
   "cell_type": "code",
   "execution_count": 3,
   "metadata": {},
   "outputs": [
    {
     "data": {
      "text/html": [
       "<div>\n",
       "<style scoped>\n",
       "    .dataframe tbody tr th:only-of-type {\n",
       "        vertical-align: middle;\n",
       "    }\n",
       "\n",
       "    .dataframe tbody tr th {\n",
       "        vertical-align: top;\n",
       "    }\n",
       "\n",
       "    .dataframe thead th {\n",
       "        text-align: right;\n",
       "    }\n",
       "</style>\n",
       "<table border=\"1\" class=\"dataframe\">\n",
       "  <thead>\n",
       "    <tr style=\"text-align: right;\">\n",
       "      <th></th>\n",
       "      <th>Which year are you in currently?</th>\n",
       "      <th>On a scale of 1-10, how excited do you get when you hear the term \"Data Science\" ?</th>\n",
       "      <th>On a scale of 1-10, how serious are you about a career in Data Science?</th>\n",
       "      <th>On a scale of 1-10, how much do you fear math and statistics?</th>\n",
       "      <th>Would you like to share a link of your data science project? It can be a website or your github repo or a blog article. If yes, kindly paste the link beneath.</th>\n",
       "    </tr>\n",
       "  </thead>\n",
       "  <tbody>\n",
       "    <tr>\n",
       "      <td>count</td>\n",
       "      <td>69.000000</td>\n",
       "      <td>69.000000</td>\n",
       "      <td>69.000000</td>\n",
       "      <td>69.000000</td>\n",
       "      <td>0.0</td>\n",
       "    </tr>\n",
       "    <tr>\n",
       "      <td>mean</td>\n",
       "      <td>1.913043</td>\n",
       "      <td>8.376812</td>\n",
       "      <td>7.985507</td>\n",
       "      <td>4.072464</td>\n",
       "      <td>NaN</td>\n",
       "    </tr>\n",
       "    <tr>\n",
       "      <td>std</td>\n",
       "      <td>0.919385</td>\n",
       "      <td>1.600565</td>\n",
       "      <td>1.866837</td>\n",
       "      <td>2.562850</td>\n",
       "      <td>NaN</td>\n",
       "    </tr>\n",
       "    <tr>\n",
       "      <td>min</td>\n",
       "      <td>1.000000</td>\n",
       "      <td>3.000000</td>\n",
       "      <td>2.000000</td>\n",
       "      <td>1.000000</td>\n",
       "      <td>NaN</td>\n",
       "    </tr>\n",
       "    <tr>\n",
       "      <td>25%</td>\n",
       "      <td>1.000000</td>\n",
       "      <td>8.000000</td>\n",
       "      <td>7.000000</td>\n",
       "      <td>2.000000</td>\n",
       "      <td>NaN</td>\n",
       "    </tr>\n",
       "    <tr>\n",
       "      <td>50%</td>\n",
       "      <td>2.000000</td>\n",
       "      <td>9.000000</td>\n",
       "      <td>8.000000</td>\n",
       "      <td>3.000000</td>\n",
       "      <td>NaN</td>\n",
       "    </tr>\n",
       "    <tr>\n",
       "      <td>75%</td>\n",
       "      <td>2.000000</td>\n",
       "      <td>10.000000</td>\n",
       "      <td>10.000000</td>\n",
       "      <td>7.000000</td>\n",
       "      <td>NaN</td>\n",
       "    </tr>\n",
       "    <tr>\n",
       "      <td>max</td>\n",
       "      <td>4.000000</td>\n",
       "      <td>10.000000</td>\n",
       "      <td>10.000000</td>\n",
       "      <td>10.000000</td>\n",
       "      <td>NaN</td>\n",
       "    </tr>\n",
       "  </tbody>\n",
       "</table>\n",
       "</div>"
      ],
      "text/plain": [
       "       Which year are you in currently?  \\\n",
       "count                         69.000000   \n",
       "mean                           1.913043   \n",
       "std                            0.919385   \n",
       "min                            1.000000   \n",
       "25%                            1.000000   \n",
       "50%                            2.000000   \n",
       "75%                            2.000000   \n",
       "max                            4.000000   \n",
       "\n",
       "       On a scale of 1-10, how excited do you get when you hear the term \"Data Science\" ?  \\\n",
       "count                                          69.000000                                    \n",
       "mean                                            8.376812                                    \n",
       "std                                             1.600565                                    \n",
       "min                                             3.000000                                    \n",
       "25%                                             8.000000                                    \n",
       "50%                                             9.000000                                    \n",
       "75%                                            10.000000                                    \n",
       "max                                            10.000000                                    \n",
       "\n",
       "       On a scale of 1-10, how serious are you about a career in Data Science?  \\\n",
       "count                                          69.000000                         \n",
       "mean                                            7.985507                         \n",
       "std                                             1.866837                         \n",
       "min                                             2.000000                         \n",
       "25%                                             7.000000                         \n",
       "50%                                             8.000000                         \n",
       "75%                                            10.000000                         \n",
       "max                                            10.000000                         \n",
       "\n",
       "       On a scale of 1-10, how much do you fear math and statistics?  \\\n",
       "count                                          69.000000               \n",
       "mean                                            4.072464               \n",
       "std                                             2.562850               \n",
       "min                                             1.000000               \n",
       "25%                                             2.000000               \n",
       "50%                                             3.000000               \n",
       "75%                                             7.000000               \n",
       "max                                            10.000000               \n",
       "\n",
       "       Would you like to share a link of your data science project? It can be a website or your github repo or a blog article. If yes, kindly paste the link beneath.  \n",
       "count                                                0.0                                                                                                               \n",
       "mean                                                 NaN                                                                                                               \n",
       "std                                                  NaN                                                                                                               \n",
       "min                                                  NaN                                                                                                               \n",
       "25%                                                  NaN                                                                                                               \n",
       "50%                                                  NaN                                                                                                               \n",
       "75%                                                  NaN                                                                                                               \n",
       "max                                                  NaN                                                                                                               "
      ]
     },
     "execution_count": 3,
     "metadata": {},
     "output_type": "execute_result"
    }
   ],
   "source": [
    "df.describe()"
   ]
  },
  {
   "cell_type": "markdown",
   "metadata": {},
   "source": [
    "Looks like we have an unanswered attribute.  \n",
    "Let's get rid of that."
   ]
  },
  {
   "cell_type": "code",
   "execution_count": 4,
   "metadata": {},
   "outputs": [],
   "source": [
    "del df['Would you like to share a link of your data science project? It can be a website or your github repo or a blog article. If yes, kindly paste the link beneath.']"
   ]
  },
  {
   "cell_type": "markdown",
   "metadata": {},
   "source": [
    "Are all the column names that huge?"
   ]
  },
  {
   "cell_type": "code",
   "execution_count": 5,
   "metadata": {},
   "outputs": [
    {
     "name": "stdout",
     "output_type": "stream",
     "text": [
      "<class 'pandas.core.frame.DataFrame'>\n",
      "RangeIndex: 69 entries, 0 to 68\n",
      "Data columns (total 13 columns):\n",
      "Timestamp                                                                                                                                                                     69 non-null object\n",
      "Which year are you in currently?                                                                                                                                              69 non-null int64\n",
      "On a scale of 1-10, how excited do you get when you hear the term \"Data Science\" ?                                                                                            69 non-null int64\n",
      "Which of the following options best describes you during these holidays?                                                                                                      69 non-null object\n",
      "If you are learning Data Science currently, kindly mention the sources from which you are learning(Separate each source with a comma)                                         27 non-null object\n",
      "What are your sources to learn Python? (You can select more than one)                                                                                                         59 non-null object\n",
      "Are you aware of the ACM Data Science SIG ?                                                                                                                                   69 non-null object\n",
      "Are you aware of the \"The Winter CodeX 2018 - Python Edition\" beginner's guide?                                                                                               69 non-null object\n",
      "What kind of learning do you prefer?                                                                                                                                          69 non-null object\n",
      "On a scale of 1-10, how serious are you about a career in Data Science?                                                                                                       69 non-null int64\n",
      "On a scale of 1-10, how much do you fear math and statistics?                                                                                                                 69 non-null int64\n",
      "Have you worked on Data Science projects before OR are you currently working on any?                                                                                          69 non-null object\n",
      "If you would like to receive the ACM ASE-B Data Science SIG related news, kindly provide us with your email id (We hate spam as much as you do, so don't worry about that)    50 non-null object\n",
      "dtypes: int64(4), object(9)\n",
      "memory usage: 7.1+ KB\n"
     ]
    }
   ],
   "source": [
    "df.info()"
   ]
  },
  {
   "cell_type": "markdown",
   "metadata": {},
   "source": [
    "The column names are long and impossible to read.  \n",
    "Let's rename them for a start."
   ]
  },
  {
   "cell_type": "code",
   "execution_count": 6,
   "metadata": {},
   "outputs": [],
   "source": [
    "old_columns = df.columns"
   ]
  },
  {
   "cell_type": "markdown",
   "metadata": {},
   "source": [
    "new_columns = []  \n",
    "for i in old_columns:  \n",
    "    new_columns.append(str(input('What will you replace '+i+' with : ')))  \n",
    "  \n",
    "A code i used to simplify renaming of the long column names.  \n",
    "Saved a lot of scrolling around.  "
   ]
  },
  {
   "cell_type": "code",
   "execution_count": 7,
   "metadata": {},
   "outputs": [],
   "source": [
    "new_columns = ['Timestamp',\n",
    " 'Year',\n",
    " 'Excitement_scale',\n",
    " 'Holidays',\n",
    " 'Learning_sources(DS)',\n",
    " 'Learning_sources(Python)',\n",
    " 'SIG_Aware',\n",
    " 'Winter_codex_aware',\n",
    " 'Learning_preference',\n",
    " 'Career_seriousness_scale',\n",
    " 'Math_stat_fear',\n",
    " 'Projects',\n",
    " 'E-mail']"
   ]
  },
  {
   "cell_type": "code",
   "execution_count": 8,
   "metadata": {},
   "outputs": [],
   "source": [
    "df.columns = new_columns"
   ]
  },
  {
   "cell_type": "markdown",
   "metadata": {},
   "source": [
    "Column names were successfully renamed.  \n",
    "So, let's have another look on the quick stats."
   ]
  },
  {
   "cell_type": "code",
   "execution_count": 9,
   "metadata": {},
   "outputs": [
    {
     "data": {
      "text/html": [
       "<div>\n",
       "<style scoped>\n",
       "    .dataframe tbody tr th:only-of-type {\n",
       "        vertical-align: middle;\n",
       "    }\n",
       "\n",
       "    .dataframe tbody tr th {\n",
       "        vertical-align: top;\n",
       "    }\n",
       "\n",
       "    .dataframe thead th {\n",
       "        text-align: right;\n",
       "    }\n",
       "</style>\n",
       "<table border=\"1\" class=\"dataframe\">\n",
       "  <thead>\n",
       "    <tr style=\"text-align: right;\">\n",
       "      <th></th>\n",
       "      <th>Year</th>\n",
       "      <th>Excitement_scale</th>\n",
       "      <th>Career_seriousness_scale</th>\n",
       "      <th>Math_stat_fear</th>\n",
       "    </tr>\n",
       "  </thead>\n",
       "  <tbody>\n",
       "    <tr>\n",
       "      <td>count</td>\n",
       "      <td>69.000000</td>\n",
       "      <td>69.000000</td>\n",
       "      <td>69.000000</td>\n",
       "      <td>69.000000</td>\n",
       "    </tr>\n",
       "    <tr>\n",
       "      <td>mean</td>\n",
       "      <td>1.913043</td>\n",
       "      <td>8.376812</td>\n",
       "      <td>7.985507</td>\n",
       "      <td>4.072464</td>\n",
       "    </tr>\n",
       "    <tr>\n",
       "      <td>std</td>\n",
       "      <td>0.919385</td>\n",
       "      <td>1.600565</td>\n",
       "      <td>1.866837</td>\n",
       "      <td>2.562850</td>\n",
       "    </tr>\n",
       "    <tr>\n",
       "      <td>min</td>\n",
       "      <td>1.000000</td>\n",
       "      <td>3.000000</td>\n",
       "      <td>2.000000</td>\n",
       "      <td>1.000000</td>\n",
       "    </tr>\n",
       "    <tr>\n",
       "      <td>25%</td>\n",
       "      <td>1.000000</td>\n",
       "      <td>8.000000</td>\n",
       "      <td>7.000000</td>\n",
       "      <td>2.000000</td>\n",
       "    </tr>\n",
       "    <tr>\n",
       "      <td>50%</td>\n",
       "      <td>2.000000</td>\n",
       "      <td>9.000000</td>\n",
       "      <td>8.000000</td>\n",
       "      <td>3.000000</td>\n",
       "    </tr>\n",
       "    <tr>\n",
       "      <td>75%</td>\n",
       "      <td>2.000000</td>\n",
       "      <td>10.000000</td>\n",
       "      <td>10.000000</td>\n",
       "      <td>7.000000</td>\n",
       "    </tr>\n",
       "    <tr>\n",
       "      <td>max</td>\n",
       "      <td>4.000000</td>\n",
       "      <td>10.000000</td>\n",
       "      <td>10.000000</td>\n",
       "      <td>10.000000</td>\n",
       "    </tr>\n",
       "  </tbody>\n",
       "</table>\n",
       "</div>"
      ],
      "text/plain": [
       "            Year  Excitement_scale  Career_seriousness_scale  Math_stat_fear\n",
       "count  69.000000         69.000000                 69.000000       69.000000\n",
       "mean    1.913043          8.376812                  7.985507        4.072464\n",
       "std     0.919385          1.600565                  1.866837        2.562850\n",
       "min     1.000000          3.000000                  2.000000        1.000000\n",
       "25%     1.000000          8.000000                  7.000000        2.000000\n",
       "50%     2.000000          9.000000                  8.000000        3.000000\n",
       "75%     2.000000         10.000000                 10.000000        7.000000\n",
       "max     4.000000         10.000000                 10.000000       10.000000"
      ]
     },
     "execution_count": 9,
     "metadata": {},
     "output_type": "execute_result"
    }
   ],
   "source": [
    "df.describe()"
   ]
  },
  {
   "cell_type": "markdown",
   "metadata": {},
   "source": [
    "Year attribute stores categorical data. We are not supposed to have a mathematical approach towards analysing the attribute.  \n",
    "So let's change the data points to roman numbers."
   ]
  },
  {
   "cell_type": "code",
   "execution_count": 10,
   "metadata": {},
   "outputs": [],
   "source": [
    "def Year_rename(year):\n",
    "    if (int(year) == 4): return 'IV'\n",
    "    else :return 'I' * int(year)\n",
    "\n",
    "df['Year'] = df['Year'].apply(Year_rename)"
   ]
  },
  {
   "cell_type": "markdown",
   "metadata": {},
   "source": [
    "That's done so let's get a look at the head."
   ]
  },
  {
   "cell_type": "code",
   "execution_count": 11,
   "metadata": {},
   "outputs": [
    {
     "data": {
      "text/html": [
       "<div>\n",
       "<style scoped>\n",
       "    .dataframe tbody tr th:only-of-type {\n",
       "        vertical-align: middle;\n",
       "    }\n",
       "\n",
       "    .dataframe tbody tr th {\n",
       "        vertical-align: top;\n",
       "    }\n",
       "\n",
       "    .dataframe thead th {\n",
       "        text-align: right;\n",
       "    }\n",
       "</style>\n",
       "<table border=\"1\" class=\"dataframe\">\n",
       "  <thead>\n",
       "    <tr style=\"text-align: right;\">\n",
       "      <th></th>\n",
       "      <th>Timestamp</th>\n",
       "      <th>Year</th>\n",
       "      <th>Excitement_scale</th>\n",
       "      <th>Holidays</th>\n",
       "      <th>Learning_sources(DS)</th>\n",
       "      <th>Learning_sources(Python)</th>\n",
       "      <th>SIG_Aware</th>\n",
       "      <th>Winter_codex_aware</th>\n",
       "      <th>Learning_preference</th>\n",
       "      <th>Career_seriousness_scale</th>\n",
       "      <th>Math_stat_fear</th>\n",
       "      <th>Projects</th>\n",
       "      <th>E-mail</th>\n",
       "    </tr>\n",
       "  </thead>\n",
       "  <tbody>\n",
       "    <tr>\n",
       "      <td>0</td>\n",
       "      <td>11/5/2019 21:51:27</td>\n",
       "      <td>II</td>\n",
       "      <td>10</td>\n",
       "      <td>Working on Data Science Projects</td>\n",
       "      <td>Udemy , blog posts.</td>\n",
       "      <td>Codecademy, Solo Learn, Whatever I can find on...</td>\n",
       "      <td>Yes</td>\n",
       "      <td>Yes</td>\n",
       "      <td>Online Courses</td>\n",
       "      <td>10</td>\n",
       "      <td>2</td>\n",
       "      <td>No</td>\n",
       "      <td>ritwiklal2000@gmail.com</td>\n",
       "    </tr>\n",
       "    <tr>\n",
       "      <td>1</td>\n",
       "      <td>11/5/2019 21:53:49</td>\n",
       "      <td>II</td>\n",
       "      <td>9</td>\n",
       "      <td>Learning Data Science</td>\n",
       "      <td>I watch YouTube videos because I like visual s...</td>\n",
       "      <td>Whatever I can find on Google</td>\n",
       "      <td>Yes</td>\n",
       "      <td>No</td>\n",
       "      <td>Online Courses</td>\n",
       "      <td>8</td>\n",
       "      <td>3</td>\n",
       "      <td>No</td>\n",
       "      <td>meghanarao.99@gmail.com</td>\n",
       "    </tr>\n",
       "    <tr>\n",
       "      <td>2</td>\n",
       "      <td>11/5/2019 21:55:07</td>\n",
       "      <td>II</td>\n",
       "      <td>10</td>\n",
       "      <td>I am stuck with other work and have been unabl...</td>\n",
       "      <td>NaN</td>\n",
       "      <td>Whatever I can find on Google, The In-house \"W...</td>\n",
       "      <td>Yes</td>\n",
       "      <td>Yes</td>\n",
       "      <td>Project-based</td>\n",
       "      <td>10</td>\n",
       "      <td>1</td>\n",
       "      <td>No</td>\n",
       "      <td>NaN</td>\n",
       "    </tr>\n",
       "    <tr>\n",
       "      <td>3</td>\n",
       "      <td>11/5/2019 21:55:16</td>\n",
       "      <td>I</td>\n",
       "      <td>10</td>\n",
       "      <td>Learning Data Science</td>\n",
       "      <td>Sig, online books, orielly</td>\n",
       "      <td>The In-house \"Winter CodeX 2018-Python Edition...</td>\n",
       "      <td>Yes</td>\n",
       "      <td>Yes</td>\n",
       "      <td>Book-based</td>\n",
       "      <td>10</td>\n",
       "      <td>2</td>\n",
       "      <td>Yes</td>\n",
       "      <td>adityadoranala2@gmail.com</td>\n",
       "    </tr>\n",
       "    <tr>\n",
       "      <td>4</td>\n",
       "      <td>11/5/2019 21:55:24</td>\n",
       "      <td>I</td>\n",
       "      <td>10</td>\n",
       "      <td>Learning Python</td>\n",
       "      <td>Udacity,udemy</td>\n",
       "      <td>Real Python, The In-house \"Winter CodeX 2018-P...</td>\n",
       "      <td>Yes</td>\n",
       "      <td>Yes</td>\n",
       "      <td>Online Courses</td>\n",
       "      <td>8</td>\n",
       "      <td>4</td>\n",
       "      <td>No</td>\n",
       "      <td>snehabalaji74@gmail.com</td>\n",
       "    </tr>\n",
       "  </tbody>\n",
       "</table>\n",
       "</div>"
      ],
      "text/plain": [
       "            Timestamp Year  Excitement_scale  \\\n",
       "0  11/5/2019 21:51:27   II                10   \n",
       "1  11/5/2019 21:53:49   II                 9   \n",
       "2  11/5/2019 21:55:07   II                10   \n",
       "3  11/5/2019 21:55:16    I                10   \n",
       "4  11/5/2019 21:55:24    I                10   \n",
       "\n",
       "                                            Holidays  \\\n",
       "0                   Working on Data Science Projects   \n",
       "1                              Learning Data Science   \n",
       "2  I am stuck with other work and have been unabl...   \n",
       "3                              Learning Data Science   \n",
       "4                                    Learning Python   \n",
       "\n",
       "                                Learning_sources(DS)  \\\n",
       "0                                Udemy , blog posts.   \n",
       "1  I watch YouTube videos because I like visual s...   \n",
       "2                                                NaN   \n",
       "3                         Sig, online books, orielly   \n",
       "4                                      Udacity,udemy   \n",
       "\n",
       "                            Learning_sources(Python) SIG_Aware  \\\n",
       "0  Codecademy, Solo Learn, Whatever I can find on...       Yes   \n",
       "1                      Whatever I can find on Google       Yes   \n",
       "2  Whatever I can find on Google, The In-house \"W...       Yes   \n",
       "3  The In-house \"Winter CodeX 2018-Python Edition...       Yes   \n",
       "4  Real Python, The In-house \"Winter CodeX 2018-P...       Yes   \n",
       "\n",
       "  Winter_codex_aware Learning_preference  Career_seriousness_scale  \\\n",
       "0                Yes      Online Courses                        10   \n",
       "1                 No      Online Courses                         8   \n",
       "2                Yes       Project-based                        10   \n",
       "3                Yes          Book-based                        10   \n",
       "4                Yes      Online Courses                         8   \n",
       "\n",
       "   Math_stat_fear Projects                     E-mail  \n",
       "0               2       No    ritwiklal2000@gmail.com  \n",
       "1               3       No    meghanarao.99@gmail.com  \n",
       "2               1       No                        NaN  \n",
       "3               2      Yes  adityadoranala2@gmail.com  \n",
       "4               4       No    snehabalaji74@gmail.com  "
      ]
     },
     "execution_count": 11,
     "metadata": {},
     "output_type": "execute_result"
    }
   ],
   "source": [
    "df.head()"
   ]
  },
  {
   "cell_type": "markdown",
   "metadata": {},
   "source": [
    "Timestamp is totally hidden due to its str datatype and needs some personalization."
   ]
  },
  {
   "cell_type": "code",
   "execution_count": 12,
   "metadata": {},
   "outputs": [],
   "source": [
    "df['Timestamp'] = pd.to_datetime(df['Timestamp'])"
   ]
  },
  {
   "cell_type": "markdown",
   "metadata": {},
   "source": [
    "Changing the timestamp into datetime datatype to unlock a lot of functionality."
   ]
  },
  {
   "cell_type": "code",
   "execution_count": 13,
   "metadata": {},
   "outputs": [],
   "source": [
    "df['time'] = df['Timestamp'].dt.hour + df['Timestamp'].dt.minute/100\n",
    "df['day'] = df['Timestamp'].dt.day"
   ]
  },
  {
   "cell_type": "markdown",
   "metadata": {},
   "source": [
    "Here, we take the values into a slightly different form for ease of plotting later on.  \n",
    "Now that that's done, let's look at the tail this time."
   ]
  },
  {
   "cell_type": "code",
   "execution_count": 14,
   "metadata": {},
   "outputs": [
    {
     "data": {
      "text/html": [
       "<div>\n",
       "<style scoped>\n",
       "    .dataframe tbody tr th:only-of-type {\n",
       "        vertical-align: middle;\n",
       "    }\n",
       "\n",
       "    .dataframe tbody tr th {\n",
       "        vertical-align: top;\n",
       "    }\n",
       "\n",
       "    .dataframe thead th {\n",
       "        text-align: right;\n",
       "    }\n",
       "</style>\n",
       "<table border=\"1\" class=\"dataframe\">\n",
       "  <thead>\n",
       "    <tr style=\"text-align: right;\">\n",
       "      <th></th>\n",
       "      <th>Timestamp</th>\n",
       "      <th>Year</th>\n",
       "      <th>Excitement_scale</th>\n",
       "      <th>Holidays</th>\n",
       "      <th>Learning_sources(DS)</th>\n",
       "      <th>Learning_sources(Python)</th>\n",
       "      <th>SIG_Aware</th>\n",
       "      <th>Winter_codex_aware</th>\n",
       "      <th>Learning_preference</th>\n",
       "      <th>Career_seriousness_scale</th>\n",
       "      <th>Math_stat_fear</th>\n",
       "      <th>Projects</th>\n",
       "      <th>E-mail</th>\n",
       "      <th>time</th>\n",
       "      <th>day</th>\n",
       "    </tr>\n",
       "  </thead>\n",
       "  <tbody>\n",
       "    <tr>\n",
       "      <td>64</td>\n",
       "      <td>2019-11-08 22:02:47</td>\n",
       "      <td>III</td>\n",
       "      <td>8</td>\n",
       "      <td>Learning Python</td>\n",
       "      <td>W3schools, sap course</td>\n",
       "      <td>Whatever I can find on Google</td>\n",
       "      <td>No</td>\n",
       "      <td>No</td>\n",
       "      <td>Project-based</td>\n",
       "      <td>8</td>\n",
       "      <td>5</td>\n",
       "      <td>No</td>\n",
       "      <td>mallikakhan9000@gmail.com</td>\n",
       "      <td>22.02</td>\n",
       "      <td>8</td>\n",
       "    </tr>\n",
       "    <tr>\n",
       "      <td>65</td>\n",
       "      <td>2019-11-09 18:18:36</td>\n",
       "      <td>IV</td>\n",
       "      <td>8</td>\n",
       "      <td>I am stuck with other work and have been unabl...</td>\n",
       "      <td>NaN</td>\n",
       "      <td>Whatever I can find on Google</td>\n",
       "      <td>No</td>\n",
       "      <td>No</td>\n",
       "      <td>Online Courses</td>\n",
       "      <td>10</td>\n",
       "      <td>7</td>\n",
       "      <td>No</td>\n",
       "      <td>NaN</td>\n",
       "      <td>18.18</td>\n",
       "      <td>9</td>\n",
       "    </tr>\n",
       "    <tr>\n",
       "      <td>66</td>\n",
       "      <td>2019-11-09 18:22:57</td>\n",
       "      <td>IV</td>\n",
       "      <td>8</td>\n",
       "      <td>I am stuck with other work and have been unabl...</td>\n",
       "      <td>NaN</td>\n",
       "      <td>Whatever I can find on Google</td>\n",
       "      <td>No</td>\n",
       "      <td>No</td>\n",
       "      <td>Online Courses</td>\n",
       "      <td>8</td>\n",
       "      <td>7</td>\n",
       "      <td>No</td>\n",
       "      <td>NaN</td>\n",
       "      <td>18.22</td>\n",
       "      <td>9</td>\n",
       "    </tr>\n",
       "    <tr>\n",
       "      <td>67</td>\n",
       "      <td>2019-11-09 18:24:40</td>\n",
       "      <td>IV</td>\n",
       "      <td>10</td>\n",
       "      <td>Learning Data Science</td>\n",
       "      <td>Coursera</td>\n",
       "      <td>Whatever I can find on Google</td>\n",
       "      <td>No</td>\n",
       "      <td>Yes</td>\n",
       "      <td>Online Courses</td>\n",
       "      <td>10</td>\n",
       "      <td>1</td>\n",
       "      <td>Yes</td>\n",
       "      <td>srikartondapu13@gmail.com</td>\n",
       "      <td>18.24</td>\n",
       "      <td>9</td>\n",
       "    </tr>\n",
       "    <tr>\n",
       "      <td>68</td>\n",
       "      <td>2019-11-09 18:24:47</td>\n",
       "      <td>IV</td>\n",
       "      <td>9</td>\n",
       "      <td>Learning Data Science</td>\n",
       "      <td>Course era, gcp</td>\n",
       "      <td>Solo Learn, Whatever I can find on Google</td>\n",
       "      <td>Heard of it, but I thought it was like a \"Unic...</td>\n",
       "      <td>Yes</td>\n",
       "      <td>Online Courses</td>\n",
       "      <td>9</td>\n",
       "      <td>3</td>\n",
       "      <td>No</td>\n",
       "      <td>naveenkumar.nattanmy@gmail.com</td>\n",
       "      <td>18.24</td>\n",
       "      <td>9</td>\n",
       "    </tr>\n",
       "  </tbody>\n",
       "</table>\n",
       "</div>"
      ],
      "text/plain": [
       "             Timestamp Year  Excitement_scale  \\\n",
       "64 2019-11-08 22:02:47  III                 8   \n",
       "65 2019-11-09 18:18:36   IV                 8   \n",
       "66 2019-11-09 18:22:57   IV                 8   \n",
       "67 2019-11-09 18:24:40   IV                10   \n",
       "68 2019-11-09 18:24:47   IV                 9   \n",
       "\n",
       "                                             Holidays   Learning_sources(DS)  \\\n",
       "64                                    Learning Python  W3schools, sap course   \n",
       "65  I am stuck with other work and have been unabl...                    NaN   \n",
       "66  I am stuck with other work and have been unabl...                    NaN   \n",
       "67                              Learning Data Science               Coursera   \n",
       "68                              Learning Data Science        Course era, gcp   \n",
       "\n",
       "                     Learning_sources(Python)  \\\n",
       "64              Whatever I can find on Google   \n",
       "65              Whatever I can find on Google   \n",
       "66              Whatever I can find on Google   \n",
       "67              Whatever I can find on Google   \n",
       "68  Solo Learn, Whatever I can find on Google   \n",
       "\n",
       "                                            SIG_Aware Winter_codex_aware  \\\n",
       "64                                                 No                 No   \n",
       "65                                                 No                 No   \n",
       "66                                                 No                 No   \n",
       "67                                                 No                Yes   \n",
       "68  Heard of it, but I thought it was like a \"Unic...                Yes   \n",
       "\n",
       "   Learning_preference  Career_seriousness_scale  Math_stat_fear Projects  \\\n",
       "64       Project-based                         8               5       No   \n",
       "65      Online Courses                        10               7       No   \n",
       "66      Online Courses                         8               7       No   \n",
       "67      Online Courses                        10               1      Yes   \n",
       "68      Online Courses                         9               3       No   \n",
       "\n",
       "                            E-mail   time  day  \n",
       "64       mallikakhan9000@gmail.com  22.02    8  \n",
       "65                             NaN  18.18    9  \n",
       "66                             NaN  18.22    9  \n",
       "67       srikartondapu13@gmail.com  18.24    9  \n",
       "68  naveenkumar.nattanmy@gmail.com  18.24    9  "
      ]
     },
     "execution_count": 14,
     "metadata": {},
     "output_type": "execute_result"
    }
   ],
   "source": [
    "df.tail()"
   ]
  },
  {
   "cell_type": "markdown",
   "metadata": {},
   "source": [
    "Everybody had their own wide range of opinions on Learning sources. So, it needs some unstacking for later analysis."
   ]
  },
  {
   "cell_type": "code",
   "execution_count": 15,
   "metadata": {},
   "outputs": [
    {
     "data": {
      "text/plain": [
       "Whatever I can find on Google                                                                                              18\n",
       "NaN                                                                                                                        10\n",
       "Whatever I can find on Google, The In-house \"Winter CodeX 2018-Python Edition\" beginner's guide                             4\n",
       "Solo Learn, Whatever I can find on Google                                                                                   4\n",
       "Udemy                                                                                                                       2\n",
       "Solo Learn, Whatever I can find on Google, The In-house \"Winter CodeX 2018-Python Edition\" beginner's guide                 2\n",
       "Coursera                                                                                                                    1\n",
       "Hacker rank,Mosh hamedami                                                                                                   1\n",
       " youtube                                                                                                                    1\n",
       "Whatever I can find on Google, Udemy                                                                                        1\n",
       "Solo Learn, New Boston Python                                                                                               1\n",
       "Real Python, The In-house \"Winter CodeX 2018-Python Edition\" beginner's guide, Udacity                                      1\n",
       "Solo Learn                                                                                                                  1\n",
       "Real Python, Whatever I can find on Google                                                                                  1\n",
       "w3shools.com                                                                                                                1\n",
       "Whatever I can find on Google, The In-house \"Winter CodeX 2018-Python Edition\" beginner's guide, Udemy, YouTube             1\n",
       "Solo Learn, The In-house \"Winter CodeX 2018-Python Edition\" beginner's guide                                                1\n",
       "Real Python, Whatever I can find on Google, NPTEL DSA using python                                                          1\n",
       "YouTube                                                                                                                     1\n",
       "Solo Learn, Whatever I can find on Google, Udemy,YouTube                                                                    1\n",
       "Codecademy, Solo Learn, The In-house \"Winter CodeX 2018-Python Edition\" beginner's guide                                    1\n",
       "Whatever I can find on Google, Youtube, Udemy                                                                               1\n",
       "YouTube                                                                                                                     1\n",
       "Codecademy                                                                                                                  1\n",
       "Whatever I can find on Google, The In-house \"Winter CodeX 2018-Python Edition\" beginner's guide, Udemy,coursera             1\n",
       "The In-house \"Winter CodeX 2018-Python Edition\" beginner's guide                                                            1\n",
       "Youtube                                                                                                                     1\n",
       "Solo Learn, Udemy                                                                                                           1\n",
       "Courses form online                                                                                                         1\n",
       "Real Python, Whatever I can find on Google, The In-house \"Winter CodeX 2018-Python Edition\" beginner's guide                1\n",
       "Online courses and to take up projects for better understanding.                                                            1\n",
       "Edx                                                                                                                         1\n",
       "Codecademy, The In-house \"Winter CodeX 2018-Python Edition\" beginner's guide                                                1\n",
       "Real Python, Solo Learn, The In-house \"Winter CodeX 2018-Python Edition\" beginner's guide                                   1\n",
       "Codecademy, Solo Learn, Whatever I can find on Google, The In-house \"Winter CodeX 2018-Python Edition\" beginner's guide     1\n",
       "Name: Learning_sources(Python), dtype: int64"
      ]
     },
     "execution_count": 15,
     "metadata": {},
     "output_type": "execute_result"
    }
   ],
   "source": [
    "df['Learning_sources(Python)'].value_counts(dropna=False)"
   ]
  },
  {
   "cell_type": "markdown",
   "metadata": {},
   "source": [
    "A good amount of null values here shows that not all the students have learnt python.  \n",
    "Let's focus on who responded."
   ]
  },
  {
   "cell_type": "code",
   "execution_count": 16,
   "metadata": {},
   "outputs": [],
   "source": [
    "py = df['Learning_sources(Python)'][0].split(',')\n",
    "for i in range(1,69):\n",
    "    if (str(df['Learning_sources(Python)'][i]) == 'nan'):\n",
    "        continue\n",
    "    py += str(df['Learning_sources(Python)'][i]).split(',')"
   ]
  },
  {
   "cell_type": "code",
   "execution_count": 17,
   "metadata": {},
   "outputs": [],
   "source": [
    "for i in range(len(py)):\n",
    "    py[i] = py[i].strip()\n",
    "    py[i] = py[i].lower()\n",
    "    py[i] = py[i].capitalize()"
   ]
  },
  {
   "cell_type": "code",
   "execution_count": 18,
   "metadata": {},
   "outputs": [],
   "source": [
    "py.sort()\n",
    "for i in range(4,13):\n",
    "    py[i] = 'Others'\n",
    "py[48] = 'Others'\n",
    "py[57] = 'Others'"
   ]
  },
  {
   "cell_type": "code",
   "execution_count": 19,
   "metadata": {},
   "outputs": [],
   "source": [
    "for i in range(len(py)):\n",
    "    if py[i] == 'The in-house \"winter codex 2018-python edition\" beginner\\'s guide':\n",
    "        py[i] = 'Winter Codex'\n",
    "    if py[i] == 'Whatever i can find on google':\n",
    "        py[i] = 'Google'"
   ]
  },
  {
   "cell_type": "code",
   "execution_count": 20,
   "metadata": {},
   "outputs": [],
   "source": [
    "Py = pd.DataFrame(py)"
   ]
  },
  {
   "cell_type": "markdown",
   "metadata": {},
   "source": [
    "The attribute had multiple entries which were separated by a comma.So, I made a list of the\n",
    "seperated values which i later converted to a Series object in pandas to use various functions of\n",
    "pandas upon these.Thus this attribute is clean enough to work on."
   ]
  },
  {
   "cell_type": "code",
   "execution_count": 21,
   "metadata": {},
   "outputs": [],
   "source": [
    "e = []\n",
    "for i in range(69):\n",
    "    if str(df['E-mail'][i]) == 'nan':\n",
    "        e.append('E-Mail ID not given')\n",
    "    else:\n",
    "        e.append('E-Mail ID given')"
   ]
  },
  {
   "cell_type": "code",
   "execution_count": 22,
   "metadata": {},
   "outputs": [],
   "source": [
    "df['SS'] = pd.DataFrame(e)"
   ]
  },
  {
   "cell_type": "markdown",
   "metadata": {},
   "source": [
    "We make a new attribute saying whether E-mail was given or not given."
   ]
  },
  {
   "cell_type": "code",
   "execution_count": 23,
   "metadata": {},
   "outputs": [],
   "source": [
    "Py.to_csv('Py_learn')"
   ]
  },
  {
   "cell_type": "code",
   "execution_count": 24,
   "metadata": {},
   "outputs": [],
   "source": [
    "df.to_csv('Clean_survey')"
   ]
  },
  {
   "cell_type": "markdown",
   "metadata": {},
   "source": [
    "So, now that all the cleanings done, we take the dataset out as clean_survey for later use.  \n",
    "Basically the cleaning part is abstracted out only for interested users to view."
   ]
  },
  {
   "cell_type": "markdown",
   "metadata": {},
   "source": [
    "### That's pretty much it on me re-cleaning this survey data"
   ]
  }
 ],
 "metadata": {
  "kernelspec": {
   "display_name": "Python 3",
   "language": "python",
   "name": "python3"
  },
  "language_info": {
   "codemirror_mode": {
    "name": "ipython",
    "version": 3
   },
   "file_extension": ".py",
   "mimetype": "text/x-python",
   "name": "python",
   "nbconvert_exporter": "python",
   "pygments_lexer": "ipython3",
   "version": "3.7.4"
  }
 },
 "nbformat": 4,
 "nbformat_minor": 2
}
